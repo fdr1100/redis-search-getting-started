{
 "cells": [
  {
   "cell_type": "markdown",
   "id": "4380f9da",
   "metadata": {
    "jp-MarkdownHeadingCollapsed": true,
    "tags": []
   },
   "source": [
    "# REDIS SEARCH - GETTING STARTED"
   ]
  },
  {
   "cell_type": "markdown",
   "id": "e1fc85e9",
   "metadata": {
    "tags": []
   },
   "source": [
    "# 1 - Introduction"
   ]
  },
  {
   "cell_type": "code",
   "execution_count": 1,
   "id": "92f7b958",
   "metadata": {
    "tags": []
   },
   "outputs": [],
   "source": [
    "import redis\n",
    "import json\n",
    "from redis.commands.json.path import Path\n",
    "import warnings\n",
    "warnings.filterwarnings('ignore')"
   ]
  },
  {
   "cell_type": "code",
   "execution_count": 2,
   "id": "f362e249",
   "metadata": {
    "tags": []
   },
   "outputs": [
    {
     "name": "stdout",
     "output_type": "stream",
     "text": [
      "True\n",
      "Hello from Redis - redis-search\n"
     ]
    }
   ],
   "source": [
    "# CREATE CLIENT CONNECTION TO DATABASE, TEST IT.\n",
    "client= redis.StrictRedis(\n",
    "# REPLACE THE FIELDS BELOW WITH YOUR REDIS DATABASE INFO    \n",
    "    host = 'redis-12553.c238.us-central1-2.gce.cloud.redislabs.com', \n",
    "    port = 12553,\n",
    "    password='<YOUR DATABASE PASSWORD>', \n",
    "\n",
    "    decode_responses=True,\n",
    "    socket_timeout=None)\n",
    "\n",
    "print(client.set('Hello', 'Hello from Redis - redis-search'))   # insert key in Redis\n",
    "print(client.get('Hello'))                                     # read from Redis"
   ]
  },
  {
   "cell_type": "code",
   "execution_count": null,
   "id": "d05139ce",
   "metadata": {},
   "outputs": [],
   "source": [
    "# FLUSH DATABASE (when necessary)\n",
    "#client.execute_command('Flushdb')"
   ]
  },
  {
   "cell_type": "markdown",
   "id": "d8ffa981",
   "metadata": {
    "tags": []
   },
   "source": [
    "# 1.1 - Basic JSON Operations - CRUD"
   ]
  },
  {
   "cell_type": "code",
   "execution_count": 3,
   "id": "4e9e1d74",
   "metadata": {
    "tags": []
   },
   "outputs": [
    {
     "name": "stdout",
     "output_type": "stream",
     "text": [
      "\"John\"\n"
     ]
    }
   ],
   "source": [
    "# CREATE\n",
    "result=client.execute_command('JSON.SET','name','$','\"John\"')\n",
    "\n",
    "# READ\n",
    "result = client.execute_command('JSON.GET', 'name')\n",
    "print(result)"
   ]
  },
  {
   "cell_type": "code",
   "execution_count": 4,
   "id": "01596ef7",
   "metadata": {
    "tags": []
   },
   "outputs": [
    {
     "name": "stdout",
     "output_type": "stream",
     "text": [
      "\"Lucy\"\n"
     ]
    }
   ],
   "source": [
    "# UPDATE\n",
    "client.execute_command('JSON.SET','name','$','\"Lucy\"')\n",
    "\n",
    "result=client.execute_command('JSON.GET', 'name')\n",
    "print(result)"
   ]
  },
  {
   "cell_type": "code",
   "execution_count": 5,
   "id": "2afef0bb",
   "metadata": {
    "tags": []
   },
   "outputs": [
    {
     "name": "stdout",
     "output_type": "stream",
     "text": [
      "None\n"
     ]
    }
   ],
   "source": [
    "# DELETE\n",
    "client.execute_command('JSON.DEL','name')\n",
    "\n",
    "result = client.execute_command('JSON.GET', 'name')\n",
    "print(result)"
   ]
  },
  {
   "cell_type": "markdown",
   "id": "acc9fda3",
   "metadata": {
    "tags": []
   },
   "source": [
    "# 1.2 - Multiple Properties and Different Data Types"
   ]
  },
  {
   "cell_type": "code",
   "execution_count": 6,
   "id": "11e27e53",
   "metadata": {
    "tags": []
   },
   "outputs": [
    {
     "name": "stdout",
     "output_type": "stream",
     "text": [
      "{\"field1\":\"val1\",\"field2\":\"val2\"}\n"
     ]
    }
   ],
   "source": [
    "# SET MULTIPLE PROPERTIES\n",
    "\n",
    "client.execute_command('JSON.SET','ex1:1', '$', '{\"field1\": \"val1\", \"field2\": \"val2\"}')\n",
    "result = client.execute_command('JSON.GET','ex1:1')\n",
    "print(result)"
   ]
  },
  {
   "cell_type": "code",
   "execution_count": 7,
   "id": "defb8958",
   "metadata": {
    "tags": []
   },
   "outputs": [
    {
     "name": "stdout",
     "output_type": "stream",
     "text": [
      "{\"field1\":\"val1\",\"field2\":2,\"field3\":true,\"field4\":null,\"field5\":false}\n"
     ]
    }
   ],
   "source": [
    "# SET DIFFERENT DATA TYPES\n",
    "\n",
    "client.execute_command('JSON.SET', 'ex1:2','$','{\"field1\":\"val1\",\"field2\":2,\"field3\":true, \"field4\": null,\"field5\":false}')\n",
    "result = client.execute_command('JSON.GET','ex1:2')\n",
    "print(result)"
   ]
  },
  {
   "cell_type": "markdown",
   "id": "4412ab0b",
   "metadata": {
    "tags": []
   },
   "source": [
    "# 1.3 - JSON Arrays and Objects"
   ]
  },
  {
   "cell_type": "code",
   "execution_count": 8,
   "id": "fbe8fcf8",
   "metadata": {
    "tags": []
   },
   "outputs": [
    {
     "name": "stdout",
     "output_type": "stream",
     "text": [
      "{\"arr1\":[\"val1\",\"val2\",\"val3\"]}\n"
     ]
    }
   ],
   "source": [
    "# SET AN ARRAY\n",
    "\n",
    "client.execute_command('JSON.SET','ex1:3', '$', '{\"arr1\": [\"val1\", \"val2\", \"val3\"]}')\n",
    "result = client.execute_command('JSON.GET', 'ex1:3')\n",
    "print(result)"
   ]
  },
  {
   "cell_type": "code",
   "execution_count": 9,
   "id": "20dceb32",
   "metadata": {
    "tags": []
   },
   "outputs": [
    {
     "name": "stdout",
     "output_type": "stream",
     "text": [
      "{\"obj1\":{\"str1\":\"val1\",\"num2\":2}}\n"
     ]
    }
   ],
   "source": [
    "# SET AN JSON OBJECT\n",
    "\n",
    "client.execute_command('JSON.SET','ex1:4', '$', '{\"obj1\": {\"str1\": \"val1\", \"num2\": 2}}')\n",
    "result = client.execute_command('JSON.GET', 'ex1:4')\n",
    "print(result)"
   ]
  },
  {
   "cell_type": "markdown",
   "id": "40411a85",
   "metadata": {
    "tags": []
   },
   "source": [
    "# 1.4 - JSON Object With a Mix of Property Data Types"
   ]
  },
  {
   "cell_type": "code",
   "execution_count": 10,
   "id": "488ba683",
   "metadata": {
    "tags": []
   },
   "outputs": [
    {
     "name": "stdout",
     "output_type": "stream",
     "text": [
      "{\"str1\":\"val1\",\"arr1\":[1,2,3,4],\"obj1\":{\"num1\":1,\"arr2\":[\"val1\",\"val2\",true]}}\n"
     ]
    }
   ],
   "source": [
    "# SET MULTIPLE FIELDS, RETRIEVE FULL OBJECT\n",
    "\n",
    "client.execute_command('JSON.SET','ex1:5','$',\n",
    "'{\"str1\":\"val1\",\"arr1\":[1,2,3,4],\"obj1\":{\"num1\":1,\"arr2\":[\"val1\",\"val2\",true]}}')\n",
    "result = client.execute_command('JSON.GET', 'ex1:5')\n",
    "print(result) "
   ]
  },
  {
   "cell_type": "code",
   "execution_count": 11,
   "id": "27aeab5c-3b94-4131-a412-52b5db6d6c24",
   "metadata": {
    "tags": []
   },
   "outputs": [
    {
     "name": "stdout",
     "output_type": "stream",
     "text": [
      "[\"val\"]\n"
     ]
    }
   ],
   "source": [
    "# RETRIEVE SINGLE KEY\n",
    "\n",
    "client.execute_command('JSON.SET','ex1:6','$','\"val\"')\n",
    "result = client.execute_command('JSON.GET','ex1:6', '$')\n",
    "print(result)"
   ]
  },
  {
   "cell_type": "code",
   "execution_count": 12,
   "id": "39ee19cb",
   "metadata": {
    "tags": []
   },
   "outputs": [
    {
     "name": "stdout",
     "output_type": "stream",
     "text": [
      "[\"val1\"]\n"
     ]
    }
   ],
   "source": [
    "# SINGLE PROPERTY FETCH\n",
    "\n",
    "client.execute_command('JSON.SET','ex1:7', '$', '{\"field1\": \"val1\"}')\n",
    "result = client.execute_command('JSON.GET','ex1:7', '$.field1')\n",
    "print(result)"
   ]
  },
  {
   "cell_type": "code",
   "execution_count": 13,
   "id": "91eed954",
   "metadata": {
    "tags": []
   },
   "outputs": [
    {
     "name": "stdout",
     "output_type": "stream",
     "text": [
      "{\"$.field1\":[\"val1\"],\"$.field2\":[\"val2\"]}\n"
     ]
    }
   ],
   "source": [
    "# MULTI-PROPERTY FETCH\n",
    "\n",
    "client.execute_command('JSON.SET','ex1:8', '$', '{\"field1\": \"val1\", \"field2\": \"val2\"}')\n",
    "result = client.execute_command('JSON.GET','ex1:8', '$.field1', '$.field2')\n",
    "print(result)"
   ]
  },
  {
   "cell_type": "code",
   "execution_count": 14,
   "id": "9beefeed",
   "metadata": {
    "tags": []
   },
   "outputs": [
    {
     "name": "stdout",
     "output_type": "stream",
     "text": [
      "[2]\n"
     ]
    }
   ],
   "source": [
    "# NESTED PROPERTY FETCH\n",
    "\n",
    "client.execute_command('JSON.SET','ex1:9', '$', '{\"obj1\": {\"str1\": \"val1\", \"num2\": 2}}')\n",
    "result = client.execute_command('JSON.GET','ex1:9', '$.obj1.num2')\n",
    "print(result); "
   ]
  },
  {
   "cell_type": "code",
   "execution_count": 15,
   "id": "6c01d86e",
   "metadata": {
    "tags": []
   },
   "outputs": [
    {
     "name": "stdout",
     "output_type": "stream",
     "text": [
      "[['val1', 'val2', 'val3']]\n",
      "[2]\n",
      "['val1', 'val2']\n",
      "[2, 3, 4]\n"
     ]
    }
   ],
   "source": [
    "# ARRAY FETCH\n",
    "\n",
    "client.execute_command('JSON.SET','ex1:10', '$', \n",
    "        '{\"str1\": \"val1\", \"str2\": \"val2\", \"arr1\":[1,2,3,4], \"obj1\": {\"num1\": 1,\"arr2\":[\"val1\",\"val2\", \"val3\"]}}')\n",
    "result = client.json().get('ex1:10', '$.obj1.arr2')\n",
    "print(result)\n",
    "result = client.json().get('ex1:10', '$.arr1[1]' )\n",
    "print(result)\n",
    "result = client.json().get('ex1:10', '$.obj1.arr2[0:2]')\n",
    "print(result)\n",
    "result = client.json().get('ex1:10', '$.arr1[-3:]')\n",
    "print(result)\n"
   ]
  },
  {
   "cell_type": "markdown",
   "id": "9775243b",
   "metadata": {
    "tags": []
   },
   "source": [
    "# 1.5 - Efficient Updates"
   ]
  },
  {
   "cell_type": "code",
   "execution_count": 16,
   "id": "6fbcc280",
   "metadata": {
    "tags": []
   },
   "outputs": [
    {
     "name": "stdout",
     "output_type": "stream",
     "text": [
      "{'FOO': 'BAR'}\n"
     ]
    }
   ],
   "source": [
    "# UPDATE ENTIRE OBJECT\n",
    "\n",
    "client.execute_command('JSON.SET','ex1:11', '$', '{\"field1\": \"val1\"}')\n",
    "client.execute_command('JSON.SET','ex1:11', '$', '{\"FOO\": \"BAR\"}')\n",
    "result = client.json().get('ex1:11')\n",
    "print(result)"
   ]
  },
  {
   "cell_type": "code",
   "execution_count": 17,
   "id": "cc1b9170",
   "metadata": {
    "tags": []
   },
   "outputs": [
    {
     "name": "stdout",
     "output_type": "stream",
     "text": [
      "{'field1': 'val1', 'field2': 'NEW-VALUE'}\n"
     ]
    }
   ],
   "source": [
    "# UPDATE A SINGLE FIELD\n",
    "\n",
    "client.execute_command('JSON.SET','ex1:11', '$', '{\"field1\": \"val1\", \"field2\": \"val2\"}')\n",
    "client.execute_command('JSON.SET','ex1:11', '$.field2', '\"NEW-VALUE\"')\n",
    "result = client.json().get('ex1:11')\n",
    "print(result); "
   ]
  },
  {
   "cell_type": "code",
   "execution_count": 18,
   "id": "cdf64ffd",
   "metadata": {
    "tags": []
   },
   "outputs": [
    {
     "name": "stdout",
     "output_type": "stream",
     "text": [
      "{'obj1': {'str1': 'val1', 'NUMBER': 30}}\n"
     ]
    }
   ],
   "source": [
    "# UPDATE A PROPERTY IN AN EMBEDDED JSON DOCUMENT\n",
    "\n",
    "client.execute_command('JSON.SET','ex1:12', '$', '{\"obj1\": {\"str1\": \"val1\", \"NUMBER\": 2}}')\n",
    "client.execute_command('JSON.SET','ex1:12', '$.obj1.NUMBER', 30)\n",
    "result = client.json().get('ex1:12')\n",
    "print(result)"
   ]
  },
  {
   "cell_type": "code",
   "execution_count": 19,
   "id": "a29538f5",
   "metadata": {
    "tags": []
   },
   "outputs": [
    {
     "name": "stdout",
     "output_type": "stream",
     "text": [
      "{'arr1': ['val1', 'FOO', 'val3']}\n"
     ]
    }
   ],
   "source": [
    "# UPDATE ARRAY VIA INDEX\n",
    "\n",
    "client.execute_command('JSON.SET','ex1:13', '$', '{\"arr1\": [\"val1\", \"val2\", \"val3\"]}')\n",
    "client.execute_command('JSON.SET','ex1:13', '$.arr1[1]', '\"FOO\"')\n",
    "result = client.execute_command('JSON.GET','ex1:13')\n",
    "print(result) "
   ]
  },
  {
   "cell_type": "code",
   "execution_count": 20,
   "id": "cb2e7396",
   "metadata": {
    "tags": []
   },
   "outputs": [
    {
     "name": "stdout",
     "output_type": "stream",
     "text": [
      "None\n"
     ]
    }
   ],
   "source": [
    "# DELETE ENTIRE OBJECT\n",
    "\n",
    "client.execute_command('JSON.SET','ex1:14', '$', '{\"field1\": \"val1\"}')\n",
    "client.execute_command('JSON.DEL','ex1:14')\n",
    "result = client.execute_command('JSON.GET','ex1:14')\n",
    "print(result)"
   ]
  },
  {
   "cell_type": "code",
   "execution_count": 21,
   "id": "4000b067",
   "metadata": {
    "tags": []
   },
   "outputs": [
    {
     "data": {
      "text/plain": [
       "{'field2': 'val2'}"
      ]
     },
     "execution_count": 21,
     "metadata": {},
     "output_type": "execute_result"
    }
   ],
   "source": [
    "# DELETE A SINGLE PROPERTY FROM AN OBJECT\n",
    "\n",
    "client.execute_command('JSON.SET', 'ex1:15', '$', '{\"field1\": \"val1\", \"field2\": \"val2\"}')\n",
    "client.execute_command('JSON.DEL', 'ex1:15', '$.field1') \n",
    "client.execute_command('JSON.GET', 'ex1:15')"
   ]
  },
  {
   "cell_type": "code",
   "execution_count": 22,
   "id": "360abeb1",
   "metadata": {
    "tags": []
   },
   "outputs": [
    {
     "name": "stdout",
     "output_type": "stream",
     "text": [
      "{'obj1': {'str1': 'val1', 'num2': 2}}\n"
     ]
    },
    {
     "data": {
      "text/plain": [
       "{'obj1': {'str1': 'val1'}}"
      ]
     },
     "execution_count": 22,
     "metadata": {},
     "output_type": "execute_result"
    }
   ],
   "source": [
    "# DELETE A PROPERTY FROM AN EMBEDDED OBJECT\n",
    "\n",
    "client.execute_command('JSON.SET', 'ex1:16', '$', '{\"obj1\": {\"str1\": \"val1\", \"num2\": 2}}')\n",
    "result=client.execute_command('JSON.GET', 'ex1:16')\n",
    "print(result)\n",
    "client.execute_command('JSON.DEL','ex1:16', '$.obj1.num2') \n",
    "client.execute_command('JSON.GET', 'ex1:16')"
   ]
  },
  {
   "cell_type": "code",
   "execution_count": 23,
   "id": "f48463ce",
   "metadata": {
    "tags": []
   },
   "outputs": [
    {
     "data": {
      "text/plain": [
       "{'arr1': ['val2', 'val3']}"
      ]
     },
     "execution_count": 23,
     "metadata": {},
     "output_type": "execute_result"
    }
   ],
   "source": [
    "# DELETE A SINGLE ITEM FROM AN ARRAY\n",
    "\n",
    "client.execute_command('JSON.SET','ex1:17', '$', '{\"arr1\": [\"val1\", \"val2\", \"val3\"]}')\n",
    "client.execute_command('JSON.DEL','ex1:17', '$.arr1[0]') \n",
    "client.execute_command('JSON.GET','ex1:17')"
   ]
  },
  {
   "cell_type": "markdown",
   "id": "edd2b3d4",
   "metadata": {
    "tags": []
   },
   "source": [
    "# __________________________________________________________________________________________"
   ]
  },
  {
   "cell_type": "markdown",
   "id": "32d92dbb-534b-4814-a8cb-25627ce19e49",
   "metadata": {
    "tags": []
   },
   "source": [
    "# 2 - Basic Query Operations"
   ]
  },
  {
   "cell_type": "code",
   "execution_count": 24,
   "id": "639c723b-16ea-4ef9-b523-1fe7f2f6ccc8",
   "metadata": {
    "tags": []
   },
   "outputs": [],
   "source": [
    "# Load Functions Needed\n",
    "from redis.commands.search.field import NumericField, TagField, TextField, GeoField\n",
    "from redis.commands.search.indexDefinition import IndexDefinition, IndexType\n",
    "from redis.commands.search.query import Query"
   ]
  },
  {
   "cell_type": "raw",
   "id": "246e4a7a-02ce-480f-9315-da17926f4ae8",
   "metadata": {
    "tags": []
   },
   "source": [
    "# DATA SET - e-COMMERCE FRONT END - CLOTHING \n",
    "\"'\"\n",
    "[\n",
    "    {   \n",
    "        \"id\": 15970,\n",
    "        \"gender\": \"Men\",\n",
    "        \"season\":[\"Fall\", \"Winter\"],\n",
    "        \"description\": \"Turtle Neck Men Navy Blue Shirt\",\n",
    "        \"price\": 34.95,\n",
    "        \"city\": \"Boston\",\n",
    "        \"location\": \"-71.057083, 42.361145\"\n",
    "    },\n",
    "    {\n",
    "        \"id\": 59263,\n",
    "        \"gender\": \"Women\",\n",
    "        \"season\": [\"Fall\", \"Winter\", \"Spring\", \"Summer\"],\n",
    "        \"description\": \"Titan Women Silver Watch\",\n",
    "        \"price\": 129.99,\n",
    "        \"city\": \"Dallas\",\n",
    "        \"location\": \"-96.808891, 32.779167\"\n",
    "    },\n",
    "    {\n",
    "        \"id\": 46885,\n",
    "        \"gender\": \"Boys\",\n",
    "        \"season\": [\"Fall\"],\n",
    "        \"description\": \"Ben 10 Boys Navy Blue Slippers\",\n",
    "        \"price\": 45.99,\n",
    "        \"city\": \"Denver\",\n",
    "        \"location\": \"-104.991531, 39.742043\"\n",
    "    }\n",
    "]\n"
   ]
  },
  {
   "cell_type": "code",
   "execution_count": 25,
   "id": "64170ddc-0496-4ea6-b300-49d825e19773",
   "metadata": {
    "tags": []
   },
   "outputs": [
    {
     "data": {
      "text/plain": [
       "True"
      ]
     },
     "execution_count": 25,
     "metadata": {},
     "output_type": "execute_result"
    }
   ],
   "source": [
    "# LOAD THE DATA\n",
    "\n",
    "client.json().set('product:15970', '$', {\"id\": 15970, \"gender\": \"Men\", \"season\":[\"Fall\", \"Winter\"], \"description\": \"Turtle Neck Men Navy Blue Shirt\", \"price\": 34.95, \"city\": \"Boston\", \"coords\": \"-71.057083, 42.361145\"})\n",
    "client.json().set('product:59263', '$', {\"id\": 59263, \"gender\": \"Women\", \"season\":[\"Fall\", \"Winter\", \"Spring\", \"Summer\"],\"description\": \"Titan Women Silver Watch\", \"price\": 129.99, \"city\": \"Dallas\", \"coords\": \"-96.808891, 32.779167\"})\n",
    "client.json().set('product:46885', '$', {\"id\": 46885, \"gender\": \"Boys\", \"season\":[\"Fall\"], \"description\": \"Ben 10 Boys Navy Blue Slippers\", \"price\": 45.99, \"city\": \"Denver\", \"coords\": \"-104.991531, 39.742043\"})\n"
   ]
  },
  {
   "cell_type": "markdown",
   "id": "621175fd-e30e-41ac-9005-e49c3f974095",
   "metadata": {
    "tags": []
   },
   "source": [
    "# 2.1 - Index Creation"
   ]
  },
  {
   "cell_type": "code",
   "execution_count": 27,
   "id": "8852f430-532e-416c-916b-1119019f090a",
   "metadata": {
    "tags": []
   },
   "outputs": [
    {
     "data": {
      "text/plain": [
       "'OK'"
      ]
     },
     "execution_count": 27,
     "metadata": {},
     "output_type": "execute_result"
    }
   ],
   "source": [
    "# DROP INDEX IF NECESSARY\n",
    "client.execute_command('FT.DROPINDEX','idx1')"
   ]
  },
  {
   "cell_type": "code",
   "execution_count": 28,
   "id": "fef48502-dce8-4aa0-ad83-e2276982e492",
   "metadata": {
    "tags": []
   },
   "outputs": [
    {
     "name": "stdout",
     "output_type": "stream",
     "text": [
      "OK\n"
     ]
    }
   ],
   "source": [
    "# CREATE AN INDEX\n",
    "idx1_def = IndexDefinition(index_type=IndexType.JSON, prefix=['product:'])\n",
    "schema = [\n",
    "    NumericField('$.id', as_name='id'),\n",
    "    TagField('$.gender', as_name='gender'),\n",
    "    TagField('$.season.*', as_name='season'),\n",
    "    TextField('$.description', as_name='description'),\n",
    "    NumericField('$.price', as_name='price'),\n",
    "    TextField('$.city', as_name='city'),\n",
    "    GeoField('$.coords', as_name='coords')\n",
    "]\n",
    "result = client.ft('idx1').create_index(schema, definition=idx1_def)\n",
    "print(result)"
   ]
  },
  {
   "cell_type": "markdown",
   "id": "43933982-c92f-46cc-9f8c-0726be4b1cd6",
   "metadata": {
    "tags": []
   },
   "source": [
    "# 2.2 - Simple Queries"
   ]
  },
  {
   "cell_type": "code",
   "execution_count": 29,
   "id": "cf137a5f-9750-4194-b424-7e7126fa0220",
   "metadata": {
    "tags": []
   },
   "outputs": [
    {
     "name": "stdout",
     "output_type": "stream",
     "text": [
      "Result{3 total, docs: [Document {'id': 'product:59263', 'payload': None, 'json': '{\"id\":59263,\"gender\":\"Women\",\"season\":[\"Fall\",\"Winter\",\"Spring\",\"Summer\"],\"description\":\"Titan Women Silver Watch\",\"price\":129.99,\"city\":\"Dallas\",\"coords\":\"-96.808891, 32.779167\"}'}, Document {'id': 'product:15970', 'payload': None, 'json': '{\"id\":15970,\"gender\":\"Men\",\"season\":[\"Fall\",\"Winter\"],\"description\":\"Turtle Neck Men Navy Blue Shirt\",\"price\":34.95,\"city\":\"Boston\",\"coords\":\"-71.057083, 42.361145\"}'}, Document {'id': 'product:46885', 'payload': None, 'json': '{\"id\":46885,\"gender\":\"Boys\",\"season\":[\"Fall\"],\"description\":\"Ben 10 Boys Navy Blue Slippers\",\"price\":45.99,\"city\":\"Denver\",\"coords\":\"-104.991531, 39.742043\"}'}]}\n"
     ]
    }
   ],
   "source": [
    "# QUERY ALL DOCUMENTS FOR THE INDEX\n",
    "\n",
    "query = Query('*')\n",
    "result = client.ft('idx1').search(query)\n",
    "print(result)"
   ]
  },
  {
   "cell_type": "code",
   "execution_count": 30,
   "id": "8b62a1a4-43a1-403b-a4f4-e0f707d02e66",
   "metadata": {
    "tags": []
   },
   "outputs": [
    {
     "name": "stdout",
     "output_type": "stream",
     "text": [
      "Result{1 total, docs: [Document {'id': 'product:46885', 'payload': None, 'json': '{\"id\":46885,\"gender\":\"Boys\",\"season\":[\"Fall\"],\"description\":\"Ben 10 Boys Navy Blue Slippers\",\"price\":45.99,\"city\":\"Denver\",\"coords\":\"-104.991531, 39.742043\"}'}]}\n"
     ]
    }
   ],
   "source": [
    "# SINGLE TERM TEXT \n",
    "# FIND ALL DOCUMENTS WITH A CERTAIN WORD IN A TEXT FIELD\n",
    "\n",
    "query = Query('@description:Slippers')\n",
    "result = client.ft('idx1').search(query)\n",
    "print(result)"
   ]
  },
  {
   "cell_type": "markdown",
   "id": "1411e3ef-92cd-4734-ac9f-e1b1dba6b6dc",
   "metadata": {
    "tags": []
   },
   "source": [
    "# 2.3 - More Sophisticated Queries"
   ]
  },
  {
   "cell_type": "code",
   "execution_count": 31,
   "id": "3e1774ea-a185-4d78-9f8a-22b2fa03e48f",
   "metadata": {
    "tags": []
   },
   "outputs": [
    {
     "name": "stdout",
     "output_type": "stream",
     "text": [
      "Result{1 total, docs: [Document {'id': 'product:15970', 'payload': None, 'json': '{\"id\":15970,\"gender\":\"Men\",\"season\":[\"Fall\",\"Winter\"],\"description\":\"Turtle Neck Men Navy Blue Shirt\",\"price\":34.95,\"city\":\"Boston\",\"coords\":\"-71.057083, 42.361145\"}'}]}\n"
     ]
    }
   ],
   "source": [
    "# EXACT PHRASE TEXT\n",
    "\n",
    "# Find all documents with a given phrase in a text field.\n",
    "\n",
    "query = Query('@description:(\"Blue Shirt\")')\n",
    "result = client.ft('idx1').search(query)\n",
    "print(result)"
   ]
  },
  {
   "cell_type": "code",
   "execution_count": 32,
   "id": "297b238b-991c-41ea-b7ba-1692f889a4b8",
   "metadata": {
    "tags": []
   },
   "outputs": [
    {
     "name": "stdout",
     "output_type": "stream",
     "text": [
      "Result{2 total, docs: [Document {'id': 'product:59263', 'payload': None, 'json': '{\"id\":59263,\"gender\":\"Women\",\"season\":[\"Fall\",\"Winter\",\"Spring\",\"Summer\"],\"description\":\"Titan Women Silver Watch\",\"price\":129.99,\"city\":\"Dallas\",\"coords\":\"-96.808891, 32.779167\"}'}, Document {'id': 'product:46885', 'payload': None, 'json': '{\"id\":46885,\"gender\":\"Boys\",\"season\":[\"Fall\"],\"description\":\"Ben 10 Boys Navy Blue Slippers\",\"price\":45.99,\"city\":\"Denver\",\"coords\":\"-104.991531, 39.742043\"}'}]}\n"
     ]
    }
   ],
   "source": [
    "# NUMERIC RANGE\n",
    "# Find all documents with a numeric field in a given range.\n",
    "\n",
    "query = Query('@price:[40,130]')\n",
    "result = client.ft('idx1').search(query)\n",
    "print(result)"
   ]
  },
  {
   "cell_type": "code",
   "execution_count": 33,
   "id": "1db643aa-ea9d-426f-83de-d4180137668e",
   "metadata": {
    "tags": []
   },
   "outputs": [
    {
     "name": "stdout",
     "output_type": "stream",
     "text": [
      "Result{1 total, docs: [Document {'id': 'product:59263', 'payload': None, 'json': '{\"id\":59263,\"gender\":\"Women\",\"season\":[\"Fall\",\"Winter\",\"Spring\",\"Summer\"],\"description\":\"Titan Women Silver Watch\",\"price\":129.99,\"city\":\"Dallas\",\"coords\":\"-96.808891, 32.779167\"}'}]}\n"
     ]
    }
   ],
   "source": [
    "# TAG ARRAY (Tags are more economical than text)\n",
    "# Find all documents that contain a given value in an array field (tag).\n",
    "\n",
    "query = Query('@season:{Spring}')\n",
    "result = client.ft('idx1').search(query)\n",
    "print(result)"
   ]
  },
  {
   "cell_type": "code",
   "execution_count": 34,
   "id": "46ae5fc5-bc47-4f8f-922e-bf681791a023",
   "metadata": {
    "tags": []
   },
   "outputs": [
    {
     "name": "stdout",
     "output_type": "stream",
     "text": [
      "Result{1 total, docs: [Document {'id': 'product:46885', 'payload': None, 'json': '{\"id\":46885,\"gender\":\"Boys\",\"season\":[\"Fall\"],\"description\":\"Ben 10 Boys Navy Blue Slippers\",\"price\":45.99,\"city\":\"Denver\",\"coords\":\"-104.991531, 39.742043\"}'}]}\n"
     ]
    }
   ],
   "source": [
    "# Logical AND\n",
    "# Find all documents contain both a numeric field in a range and a word in a text field.\n",
    "\n",
    "query = Query('@price:[40, 100] @description:Blue')\n",
    "result = client.ft('idx1').search(query)\n",
    "print(result)"
   ]
  },
  {
   "cell_type": "code",
   "execution_count": 35,
   "id": "41da95da-c66a-48c6-b76c-7ba4ad849580",
   "metadata": {
    "tags": []
   },
   "outputs": [
    {
     "name": "stdout",
     "output_type": "stream",
     "text": [
      "Result{2 total, docs: [Document {'id': 'product:59263', 'payload': None, 'json': '{\"id\":59263,\"gender\":\"Women\",\"season\":[\"Fall\",\"Winter\",\"Spring\",\"Summer\"],\"description\":\"Titan Women Silver Watch\",\"price\":129.99,\"city\":\"Dallas\",\"coords\":\"-96.808891, 32.779167\"}'}, Document {'id': 'product:15970', 'payload': None, 'json': '{\"id\":15970,\"gender\":\"Men\",\"season\":[\"Fall\",\"Winter\"],\"description\":\"Turtle Neck Men Navy Blue Shirt\",\"price\":34.95,\"city\":\"Boston\",\"coords\":\"-71.057083, 42.361145\"}'}]}\n"
     ]
    }
   ],
   "source": [
    "#Logical OR\n",
    "#Find all documents that either match tag value or text value.\n",
    "\n",
    "query = Query('(@gender:{Women})|(@city:Boston)')\n",
    "result = client.ft('idx1').search(query)\n",
    "print(result)"
   ]
  },
  {
   "cell_type": "code",
   "execution_count": 36,
   "id": "47c0089c-91e6-46dc-9aed-d996840ae954",
   "metadata": {
    "tags": []
   },
   "outputs": [
    {
     "name": "stdout",
     "output_type": "stream",
     "text": [
      "Result{2 total, docs: [Document {'id': 'product:59263', 'payload': None, 'json': '{\"id\":59263,\"gender\":\"Women\",\"season\":[\"Fall\",\"Winter\",\"Spring\",\"Summer\"],\"description\":\"Titan Women Silver Watch\",\"price\":129.99,\"city\":\"Dallas\",\"coords\":\"-96.808891, 32.779167\"}'}, Document {'id': 'product:46885', 'payload': None, 'json': '{\"id\":46885,\"gender\":\"Boys\",\"season\":[\"Fall\"],\"description\":\"Ben 10 Boys Navy Blue Slippers\",\"price\":45.99,\"city\":\"Denver\",\"coords\":\"-104.991531, 39.742043\"}'}]}\n"
     ]
    }
   ],
   "source": [
    "# Negation\n",
    "# Find all documents that do not contain a given word in a text field.\n",
    "\n",
    "query = Query('-(@description:Shirt)')\n",
    "result = client.ft('idx1').search(query)\n",
    "print(result)"
   ]
  },
  {
   "cell_type": "code",
   "execution_count": 37,
   "id": "fb6cc405-bc90-4e87-8737-1a2cb045b427",
   "metadata": {
    "tags": []
   },
   "outputs": [
    {
     "name": "stdout",
     "output_type": "stream",
     "text": [
      "Result{2 total, docs: [Document {'id': 'product:15970', 'payload': None, 'json': '{\"id\":15970,\"gender\":\"Men\",\"season\":[\"Fall\",\"Winter\"],\"description\":\"Turtle Neck Men Navy Blue Shirt\",\"price\":34.95,\"city\":\"Boston\",\"coords\":\"-71.057083, 42.361145\"}'}, Document {'id': 'product:46885', 'payload': None, 'json': '{\"id\":46885,\"gender\":\"Boys\",\"season\":[\"Fall\"],\"description\":\"Ben 10 Boys Navy Blue Slippers\",\"price\":45.99,\"city\":\"Denver\",\"coords\":\"-104.991531, 39.742043\"}'}]}\n"
     ]
    }
   ],
   "source": [
    "# Prefix\n",
    "# Find all documents that have a word that begins with a given prefix value.\n",
    "\n",
    "query = Query('@description:Nav*')\n",
    "result = client.ft('idx1').search(query)\n",
    "print(result)"
   ]
  },
  {
   "cell_type": "code",
   "execution_count": 38,
   "id": "906f5ffc-ad1d-4e4e-a614-68f635322132",
   "metadata": {
    "tags": []
   },
   "outputs": [
    {
     "name": "stdout",
     "output_type": "stream",
     "text": [
      "Result{1 total, docs: [Document {'id': 'product:59263', 'payload': None, 'json': '{\"id\":59263,\"gender\":\"Women\",\"season\":[\"Fall\",\"Winter\",\"Spring\",\"Summer\"],\"description\":\"Titan Women Silver Watch\",\"price\":129.99,\"city\":\"Dallas\",\"coords\":\"-96.808891, 32.779167\"}'}]}\n"
     ]
    }
   ],
   "source": [
    "# Suffix\n",
    "# Find all documents that contain a word that ends with a given suffix value.\n",
    "\n",
    "query = Query('@description:*Watch')\n",
    "result = client.ft('idx1').search(query)\n",
    "print(result)"
   ]
  },
  {
   "cell_type": "markdown",
   "id": "852865f5-30ff-4289-8041-a48f637797d0",
   "metadata": {
    "tags": []
   },
   "source": [
    "# 2.4 - Fuzzy Queries"
   ]
  },
  {
   "cell_type": "code",
   "execution_count": 39,
   "id": "513100af-1de0-490f-9288-6634898b0f5c",
   "metadata": {
    "tags": []
   },
   "outputs": [
    {
     "name": "stdout",
     "output_type": "stream",
     "text": [
      "Result{2 total, docs: [Document {'id': 'product:15970', 'payload': None, 'json': '{\"id\":15970,\"gender\":\"Men\",\"season\":[\"Fall\",\"Winter\"],\"description\":\"Turtle Neck Men Navy Blue Shirt\",\"price\":34.95,\"city\":\"Boston\",\"coords\":\"-71.057083, 42.361145\"}'}, Document {'id': 'product:46885', 'payload': None, 'json': '{\"id\":46885,\"gender\":\"Boys\",\"season\":[\"Fall\"],\"description\":\"Ben 10 Boys Navy Blue Slippers\",\"price\":45.99,\"city\":\"Denver\",\"coords\":\"-104.991531, 39.742043\"}'}]}\n"
     ]
    }
   ],
   "source": [
    "# FUZZY SEARCH\n",
    "# Find all documents that contain a word that is within 1 Levenshtein distance of a given word.\n",
    "\n",
    "# 'navy' SIMILAR TO 'wavy'\n",
    "\n",
    "query = Query('@description:%wavy%')\n",
    "result = client.ft('idx1').search(query)\n",
    "print(result)"
   ]
  },
  {
   "cell_type": "markdown",
   "id": "f732a881-9098-421b-96ac-07ab2c7ef948",
   "metadata": {
    "tags": []
   },
   "source": [
    "# 2.5 - Geo-located Queries"
   ]
  },
  {
   "cell_type": "code",
   "execution_count": 40,
   "id": "00de5e91-0df6-47cd-a258-cee89333b349",
   "metadata": {
    "tags": []
   },
   "outputs": [
    {
     "name": "stdout",
     "output_type": "stream",
     "text": [
      "Result{1 total, docs: [Document {'id': 'product:46885', 'payload': None, 'json': '{\"id\":46885,\"gender\":\"Boys\",\"season\":[\"Fall\"],\"description\":\"Ben 10 Boys Navy Blue Slippers\",\"price\":45.99,\"city\":\"Denver\",\"coords\":\"-104.991531, 39.742043\"}'}]}\n"
     ]
    }
   ],
   "source": [
    "\n",
    "# Find all documents that have geographic coordinates within a given range of a given coordinate. \n",
    "# Colorado Springs coords (long, lat) = -104.800644, 38.846127\n",
    "\n",
    "query = Query('@coords:[-104.800644 38.846127 100 mi]')\n",
    "result = client.ft('idx1').search(query)\n",
    "print(result)"
   ]
  },
  {
   "cell_type": "markdown",
   "id": "560e5d3f-1f97-4619-90aa-d2c65d3fd35b",
   "metadata": {
    "jp-MarkdownHeadingCollapsed": true,
    "tags": []
   },
   "source": [
    "# __________________________________________________________________________________________"
   ]
  },
  {
   "cell_type": "markdown",
   "id": "83b451ce-3baa-4483-99d8-089168937d96",
   "metadata": {
    "tags": []
   },
   "source": [
    "# 3 - Advanced Querying and JSON\n"
   ]
  },
  {
   "cell_type": "raw",
   "id": "e400caf7-9c8b-472a-9a20-96ee1a91bdbb",
   "metadata": {
    "tags": []
   },
   "source": [
    "# DATA SET - eCommerce Inventory\n",
    "\"'\"\n",
    "{\n",
    "    \"city\": \"Boston\",\n",
    "    \"location\": \"42.361145, -71.057083\",\n",
    "    \"inventory\": [\n",
    "        {   \n",
    "            \"id\": 15970,\n",
    "            \"gender\": \"Men\",\n",
    "            \"season\":[\"Fall\", \"Winter\"],\n",
    "            \"description\": \"Turtle Check Men Navy Blue Shirt\",\n",
    "            \"price\": 34.95\n",
    "        },\n",
    "        {\n",
    "            \"id\": 59263,\n",
    "            \"gender\": \"Women\",\n",
    "            \"season\": [\"Fall\", \"Winter\", \"Spring\", \"Summer\"],\n",
    "            \"description\": \"Titan Women Silver Watch\",\n",
    "            \"price\": 129.99\n",
    "        },\n",
    "        {\n",
    "            \"id\": 46885,\n",
    "            \"gender\": \"Boys\",\n",
    "            \"season\": [\"Fall\"],\n",
    "            \"description\": \"Ben 10 Boys Navy Blue Slippers\",\n",
    "            \"price\": 45.99\n",
    "        }\n",
    "    ]\n",
    "}"
   ]
  },
  {
   "cell_type": "code",
   "execution_count": 41,
   "id": "4ed84fe7-6907-4b93-a225-0bcc99dedf46",
   "metadata": {
    "tags": []
   },
   "outputs": [
    {
     "data": {
      "text/plain": [
       "True"
      ]
     },
     "execution_count": 41,
     "metadata": {},
     "output_type": "execute_result"
    }
   ],
   "source": [
    "# Data Loading\n",
    "client.json().set('warehouse:1', '$', {\n",
    "            \"city\": \"Boston\",\n",
    "            \"location\": \"42.361145, -71.057083\",\n",
    "            \"inventory\":[{\n",
    "                \"id\": 15970,\n",
    "                \"gender\": \"Men\",\n",
    "                \"season\":[\"Fall\", \"Winter\"],\n",
    "                \"description\": \"Turtle Neck Men Navy Blue Shirt\",\n",
    "                \"price\": 34.95\n",
    "            },{\n",
    "                \"id\": 59263,\n",
    "                \"gender\": \"Women\",\n",
    "                \"season\": [\"Fall\", \"Winter\", \"Spring\", \"Summer\"],\n",
    "                \"description\": \"Titan Women Silver Watch\",\n",
    "                \"price\": 129.99\n",
    "            },{\n",
    "                \"id\": 46885,\n",
    "                \"gender\": \"Boys\",\n",
    "                \"season\": [\"Fall\"],\n",
    "                \"description\": \n",
    "                \"Ben 10 Boys Navy Blue Slippers\",\n",
    "                \"price\": 45.99\n",
    "}]})"
   ]
  },
  {
   "cell_type": "markdown",
   "id": "92144660-ecdb-4903-9453-cc3251fee101",
   "metadata": {
    "tags": []
   },
   "source": [
    "# 3.1 - Array Filtering\n"
   ]
  },
  {
   "cell_type": "code",
   "execution_count": 42,
   "id": "7c85a7f9-b557-4d99-82dc-73518276eeb5",
   "metadata": {
    "tags": []
   },
   "outputs": [
    {
     "name": "stdout",
     "output_type": "stream",
     "text": [
      "[\n",
      "    {\n",
      "        \"id\": 15970,\n",
      "        \"gender\": \"Men\",\n",
      "        \"season\": [\n",
      "            \"Fall\",\n",
      "            \"Winter\"\n",
      "        ],\n",
      "        \"description\": \"Turtle Neck Men Navy Blue Shirt\",\n",
      "        \"price\": 34.95\n",
      "    },\n",
      "    {\n",
      "        \"id\": 59263,\n",
      "        \"gender\": \"Women\",\n",
      "        \"season\": [\n",
      "            \"Fall\",\n",
      "            \"Winter\",\n",
      "            \"Spring\",\n",
      "            \"Summer\"\n",
      "        ],\n",
      "        \"description\": \"Titan Women Silver Watch\",\n",
      "        \"price\": 129.99\n",
      "    },\n",
      "    {\n",
      "        \"id\": 46885,\n",
      "        \"gender\": \"Boys\",\n",
      "        \"season\": [\n",
      "            \"Fall\"\n",
      "        ],\n",
      "        \"description\": \"Ben 10 Boys Navy Blue Slippers\",\n",
      "        \"price\": 45.99\n",
      "    }\n",
      "]\n"
     ]
    }
   ],
   "source": [
    "# ALL ARRAY PROPERTIES\n",
    "# Fetch all properties of an array.\n",
    "\n",
    "result = client.json().get('warehouse:1', Path('$.inventory[*]'))\n",
    "print(json.dumps(result, indent=4)) "
   ]
  },
  {
   "cell_type": "code",
   "execution_count": 43,
   "id": "59de3553-ac1c-471d-b9b0-8dd45cc9e505",
   "metadata": {
    "tags": []
   },
   "outputs": [
    {
     "name": "stdout",
     "output_type": "stream",
     "text": [
      "[\n",
      "    34.95,\n",
      "    129.99,\n",
      "    45.99\n",
      "]\n"
     ]
    }
   ],
   "source": [
    "# ALL PROPERTIES IN A FIELD\n",
    "# Get all values of a field within an array.\n",
    "\n",
    "result = client.json().get('warehouse:1', Path('$.inventory[*].price'))\n",
    "print(json.dumps(result, indent=4)) "
   ]
  },
  {
   "cell_type": "markdown",
   "id": "61bca9dc-be8b-472a-b36c-40d1b81e1896",
   "metadata": {
    "tags": []
   },
   "source": [
    "# 3.2 - Relational Queries\n"
   ]
  },
  {
   "cell_type": "code",
   "execution_count": 44,
   "id": "7055163b-a3d5-4b0b-aafa-f57ac1d40ea7",
   "metadata": {
    "tags": []
   },
   "outputs": [
    {
     "name": "stdout",
     "output_type": "stream",
     "text": [
      "[\n",
      "    {\n",
      "        \"id\": 15970,\n",
      "        \"gender\": \"Men\",\n",
      "        \"season\": [\n",
      "            \"Fall\",\n",
      "            \"Winter\"\n",
      "        ],\n",
      "        \"description\": \"Turtle Neck Men Navy Blue Shirt\",\n",
      "        \"price\": 34.95\n",
      "    }\n",
      "]\n"
     ]
    }
   ],
   "source": [
    "# RELATIONAL - EQUALITY\n",
    "# Get all items within an array where a text field matches a given value.\n",
    "\n",
    "result = client.json().get('warehouse:1', Path('$.inventory[?(@.description==\"Turtle Neck Men Navy Blue Shirt\")]'))\n",
    "print(json.dumps(result, indent=4))"
   ]
  },
  {
   "cell_type": "code",
   "execution_count": 45,
   "id": "2e7bc2b8-c696-4b74-8491-62d129fdcdb4",
   "metadata": {
    "tags": []
   },
   "outputs": [
    {
     "name": "stdout",
     "output_type": "stream",
     "text": [
      "[\n",
      "    {\n",
      "        \"id\": 15970,\n",
      "        \"gender\": \"Men\",\n",
      "        \"season\": [\n",
      "            \"Fall\",\n",
      "            \"Winter\"\n",
      "        ],\n",
      "        \"description\": \"Turtle Neck Men Navy Blue Shirt\",\n",
      "        \"price\": 34.95\n",
      "    },\n",
      "    {\n",
      "        \"id\": 46885,\n",
      "        \"gender\": \"Boys\",\n",
      "        \"season\": [\n",
      "            \"Fall\"\n",
      "        ],\n",
      "        \"description\": \"Ben 10 Boys Navy Blue Slippers\",\n",
      "        \"price\": 45.99\n",
      "    }\n",
      "]\n"
     ]
    }
   ],
   "source": [
    "# RELATIONAL - LESS THAN\n",
    "# Get all items within an array where a numeric field is less than a given value.\n",
    "\n",
    "result = client.json().get('warehouse:1', Path('$.inventory[?(@.price<100)]'))\n",
    "print(json.dumps(result, indent=4)) "
   ]
  },
  {
   "cell_type": "code",
   "execution_count": 46,
   "id": "31af94e4-883f-4962-95dd-12504e44d8cc",
   "metadata": {
    "tags": []
   },
   "outputs": [
    {
     "name": "stdout",
     "output_type": "stream",
     "text": [
      "[\n",
      "    {\n",
      "        \"id\": 59263,\n",
      "        \"gender\": \"Women\",\n",
      "        \"season\": [\n",
      "            \"Fall\",\n",
      "            \"Winter\",\n",
      "            \"Spring\",\n",
      "            \"Summer\"\n",
      "        ],\n",
      "        \"description\": \"Titan Women Silver Watch\",\n",
      "        \"price\": 129.99\n",
      "    },\n",
      "    {\n",
      "        \"id\": 46885,\n",
      "        \"gender\": \"Boys\",\n",
      "        \"season\": [\n",
      "            \"Fall\"\n",
      "        ],\n",
      "        \"description\": \"Ben 10 Boys Navy Blue Slippers\",\n",
      "        \"price\": 45.99\n",
      "    }\n",
      "]\n"
     ]
    }
   ],
   "source": [
    "# RELATIONAL - GREATER THAN OR EQUAL\n",
    "# Get all items within an array where a numeric field is greater than or equal to a given value.\n",
    "\n",
    "result = client.json().get('warehouse:1', Path('$.inventory[?(@.id>=20000)]'))\n",
    "print(json.dumps(result, indent=4)) "
   ]
  },
  {
   "cell_type": "markdown",
   "id": "9778b4de-bf40-4ea4-97f3-f652dec07b9e",
   "metadata": {
    "tags": []
   },
   "source": [
    "# 3.3 - LOGICAL Operators\n"
   ]
  },
  {
   "cell_type": "code",
   "execution_count": 47,
   "id": "42bf1500-ef8c-48e0-b0a9-83a960ee37da",
   "metadata": {
    "tags": []
   },
   "outputs": [
    {
     "name": "stdout",
     "output_type": "stream",
     "text": [
      "[\n",
      "    {\n",
      "        \"id\": 15970,\n",
      "        \"gender\": \"Men\",\n",
      "        \"season\": [\n",
      "            \"Fall\",\n",
      "            \"Winter\"\n",
      "        ],\n",
      "        \"description\": \"Turtle Neck Men Navy Blue Shirt\",\n",
      "        \"price\": 34.95\n",
      "    }\n",
      "]\n"
     ]
    }
   ],
   "source": [
    "# Logical AND &&\n",
    "# Get all items within an array that meet two relational operations.\n",
    "\n",
    "result = client.json().get('warehouse:1', Path('$.inventory[?(@.gender==\"Men\"&&@.price>20)]'))\n",
    "print(json.dumps(result, indent=4)) "
   ]
  },
  {
   "cell_type": "code",
   "execution_count": 48,
   "id": "a3d35e63-1f32-4b10-9b0a-5c75f74da32c",
   "metadata": {
    "tags": []
   },
   "outputs": [
    {
     "name": "stdout",
     "output_type": "stream",
     "text": [
      "[\n",
      "    15970,\n",
      "    59263,\n",
      "    46885\n",
      "]\n"
     ]
    }
   ],
   "source": [
    "# Logical OR ||\n",
    "# Get all items within an array that meet at least one relational operation. In this case, RETURN ONLY THE IDs OF THE ITEMS.\n",
    "\n",
    "result = client.json().get('warehouse:1', Path('$.inventory[?(@.price<100||@.gender==\"Women\")].id'))\n",
    "print(json.dumps(result, indent=4))"
   ]
  },
  {
   "cell_type": "markdown",
   "id": "1a191e23-b413-43c6-bd5b-eedf62b8a412",
   "metadata": {
    "tags": []
   },
   "source": [
    "# 3.4 - Regular Expressions\n"
   ]
  },
  {
   "cell_type": "code",
   "execution_count": 49,
   "id": "abcc0c4a-6311-4d2a-8112-b61902571e87",
   "metadata": {
    "tags": []
   },
   "outputs": [
    {
     "name": "stdout",
     "output_type": "stream",
     "text": [
      "[\n",
      "    {\n",
      "        \"id\": 15970,\n",
      "        \"gender\": \"Men\",\n",
      "        \"season\": [\n",
      "            \"Fall\",\n",
      "            \"Winter\"\n",
      "        ],\n",
      "        \"description\": \"Turtle Neck Men Navy Blue Shirt\",\n",
      "        \"price\": 34.95\n",
      "    },\n",
      "    {\n",
      "        \"id\": 46885,\n",
      "        \"gender\": \"Boys\",\n",
      "        \"season\": [\n",
      "            \"Fall\"\n",
      "        ],\n",
      "        \"description\": \"Ben 10 Boys Navy Blue Slippers\",\n",
      "        \"price\": 45.99\n",
      "    }\n",
      "]\n"
     ]
    }
   ],
   "source": [
    "# REGEX - Contains Exact\n",
    "# Fetch all items within an array that match a given regex pattern.\n",
    "\n",
    "result = client.json().get('warehouse:1', Path('$.inventory[?(@.description =~ \"Blue\")]'))\n",
    "print(json.dumps(result, indent=4))"
   ]
  },
  {
   "cell_type": "code",
   "execution_count": 50,
   "id": "98e494c1-b817-4f20-9702-33dc93c7c074",
   "metadata": {
    "tags": []
   },
   "outputs": [
    {
     "name": "stdout",
     "output_type": "stream",
     "text": [
      "[\n",
      "    {\n",
      "        \"id\": 59263,\n",
      "        \"gender\": \"Women\",\n",
      "        \"season\": [\n",
      "            \"Fall\",\n",
      "            \"Winter\",\n",
      "            \"Spring\",\n",
      "            \"Summer\"\n",
      "        ],\n",
      "        \"description\": \"Titan Women Silver Watch\",\n",
      "        \"price\": 129.99\n",
      "    }\n",
      "]\n"
     ]
    }
   ],
   "source": [
    "# REGEX - Contains, Case Insensitive\n",
    "# Get all items within an array where a field contains a term, case insensitive.\n",
    "\n",
    "result = client.json().get('warehouse:1', Path('$.inventory[?(@.description =~ \"(?i)watch\")]'))\n",
    "print(json.dumps(result, indent=4))"
   ]
  },
  {
   "cell_type": "code",
   "execution_count": 51,
   "id": "7cdacebe-f2f7-433a-97d4-c6bcaf7fc4ee",
   "metadata": {
    "tags": []
   },
   "outputs": [
    {
     "name": "stdout",
     "output_type": "stream",
     "text": [
      "[\n",
      "    {\n",
      "        \"id\": 15970,\n",
      "        \"gender\": \"Men\",\n",
      "        \"season\": [\n",
      "            \"Fall\",\n",
      "            \"Winter\"\n",
      "        ],\n",
      "        \"description\": \"Turtle Neck Men Navy Blue Shirt\",\n",
      "        \"price\": 34.95\n",
      "    },\n",
      "    {\n",
      "        \"id\": 59263,\n",
      "        \"gender\": \"Women\",\n",
      "        \"season\": [\n",
      "            \"Fall\",\n",
      "            \"Winter\",\n",
      "            \"Spring\",\n",
      "            \"Summer\"\n",
      "        ],\n",
      "        \"description\": \"Titan Women Silver Watch\",\n",
      "        \"price\": 129.99\n",
      "    }\n",
      "]\n"
     ]
    }
   ],
   "source": [
    "# REGEX - Begins With\n",
    "# Get all items within an array where a field begins with a given expression.\n",
    "\n",
    "result = client.json().get('warehouse:1', Path('$.inventory[?(@.description =~ \"^T\")]'))\n",
    "print(json.dumps(result, indent=4))"
   ]
  },
  {
   "cell_type": "markdown",
   "id": "2b82d021-3865-402c-b3ce-95a9ea737111",
   "metadata": {
    "tags": []
   },
   "source": [
    "# 3.5 - Cross-Document Indexing & Querying"
   ]
  },
  {
   "cell_type": "code",
   "execution_count": 52,
   "id": "5ea1af6c-9b97-41e3-ab47-94264623ec67",
   "metadata": {
    "tags": []
   },
   "outputs": [
    {
     "data": {
      "text/plain": [
       "'OK'"
      ]
     },
     "execution_count": 52,
     "metadata": {},
     "output_type": "execute_result"
    }
   ],
   "source": [
    "# DROP INDEX IF NECESSARY\n",
    "client.execute_command('FT.DROPINDEX','cross_idx')"
   ]
  },
  {
   "cell_type": "code",
   "execution_count": 53,
   "id": "65f90d24-183f-4f18-8e9b-15165ec14f22",
   "metadata": {
    "jp-MarkdownHeadingCollapsed": true,
    "tags": []
   },
   "outputs": [
    {
     "data": {
      "text/plain": [
       "True"
      ]
     },
     "execution_count": 53,
     "metadata": {},
     "output_type": "execute_result"
    }
   ],
   "source": [
    "# DATA FROM 2 INVENTORY SYSTEMS\n",
    "\n",
    "client.json().set('prod:123', '$', {\"name\":\"book\",\"price\":20})\n",
    "client.json().set('prod:124', '$', {\"name\":\"chair\",\"price\":50})\n",
    "client.json().set('prod:125', '$', {\"name\":\"desk\",\"price\":400})\n",
    "                  \n",
    "client.json().set('item:33', '$', {\"desc\":\"pen\",\"cost\":5})\n",
    "client.json().set('item:34', '$', {\"desc\":\"pencil\",\"cost\":3})"
   ]
  },
  {
   "cell_type": "code",
   "execution_count": 54,
   "id": "58fe2431-c33a-49a4-b2a1-1af17e963874",
   "metadata": {
    "tags": []
   },
   "outputs": [
    {
     "name": "stdout",
     "output_type": "stream",
     "text": [
      "OK\n"
     ]
    }
   ],
   "source": [
    "# CREATE AN INDEX ACROSS THE 2 DOCUMENT TYPES\n",
    "cross_idx_def = IndexDefinition(index_type=IndexType.JSON, prefix=['prod:','item:'])\n",
    "schema = [\n",
    "#    TextField('$.name', as_name='name'),\n",
    "    TextField(\"$.['name','desc']\", as_name='name_desc'),\n",
    "    NumericField(\"$.['price','cost']\", as_name='price_cost'),\n",
    "]\n",
    "result = client.ft('cross_idx').create_index(schema, definition=cross_idx_def)\n",
    "print(result)"
   ]
  },
  {
   "cell_type": "code",
   "execution_count": 55,
   "id": "ada9a537-dbb2-46cd-ac27-f2cc47f2aba4",
   "metadata": {
    "jp-MarkdownHeadingCollapsed": true,
    "tags": []
   },
   "outputs": [
    {
     "name": "stdout",
     "output_type": "stream",
     "text": [
      "Result{2 total, docs: [Document {'id': 'prod:123', 'payload': None, 'json': '{\"name\":\"book\",\"price\":20}'}, Document {'id': 'item:34', 'payload': None, 'json': '{\"desc\":\"pencil\",\"cost\":3}'}]}\n"
     ]
    }
   ],
   "source": [
    "# SEARCH FOR PRODUCTS AND ITEMS NAMED 'book' OR 'pencil':\n",
    "\n",
    "query = Query('(@name_desc:book | @name_desc:pencil)')\n",
    "result = client.ft('cross_idx').search(query)\n",
    "print(result)\n"
   ]
  },
  {
   "cell_type": "code",
   "execution_count": 56,
   "id": "e01ed0dd-ca0e-4afc-8634-faa296e0675e",
   "metadata": {
    "tags": []
   },
   "outputs": [
    {
     "name": "stdout",
     "output_type": "stream",
     "text": [
      "Result{2 total, docs: [Document {'id': 'prod:123', 'payload': None, 'json': '{\"name\":\"book\",\"price\":20}'}, Document {'id': 'item:33', 'payload': None, 'json': '{\"desc\":\"pen\",\"cost\":5}'}]}\n"
     ]
    }
   ],
   "source": [
    "# FIND PRODUCTS AND ITEMS PRICED BETWEEN $5 AND $20\n",
    "\n",
    "query = Query('@price_cost:[5,20]')\n",
    "result = client.ft('cross_idx').search(query)\n",
    "print(result)"
   ]
  },
  {
   "cell_type": "code",
   "execution_count": 57,
   "id": "f56f9256",
   "metadata": {
    "tags": []
   },
   "outputs": [
    {
     "name": "stdout",
     "output_type": "stream",
     "text": [
      "Result{3 total, docs: [Document {'id': 'prod:123', 'payload': None, 'json': '{\"name\":\"book\",\"price\":20}'}, Document {'id': 'prod:124', 'payload': None, 'json': '{\"name\":\"chair\",\"price\":50}'}, Document {'id': 'prod:125', 'payload': None, 'json': '{\"name\":\"desk\",\"price\":400}'}]}\n"
     ]
    }
   ],
   "source": [
    "#ft.search my-idx '-(@name:pen*)'\n",
    "# FIND PRODUCTS AND ITEMS WITH NAMES THAT DO NOT BEGIN WITH 'pen'\n",
    "\n",
    "query = Query('-(@name_desc:pen*)')\n",
    "result = client.ft('cross_idx').search(query)\n",
    "print(result)"
   ]
  },
  {
   "cell_type": "code",
   "execution_count": null,
   "id": "ce7361ee",
   "metadata": {},
   "outputs": [],
   "source": []
  },
  {
   "cell_type": "markdown",
   "id": "d18bb9a2",
   "metadata": {},
   "source": [
    "# END"
   ]
  }
 ],
 "metadata": {
  "kernelspec": {
   "display_name": "Python 3 (ipykernel)",
   "language": "python",
   "name": "python3"
  },
  "language_info": {
   "codemirror_mode": {
    "name": "ipython",
    "version": 3
   },
   "file_extension": ".py",
   "mimetype": "text/x-python",
   "name": "python",
   "nbconvert_exporter": "python",
   "pygments_lexer": "ipython3",
   "version": "3.11.3"
  },
  "toc-showtags": false
 },
 "nbformat": 4,
 "nbformat_minor": 5
}
